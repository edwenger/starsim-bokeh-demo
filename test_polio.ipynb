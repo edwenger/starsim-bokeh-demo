{
 "cells": [
  {
   "cell_type": "code",
   "execution_count": 1,
   "metadata": {},
   "outputs": [
    {
     "name": "stdout",
     "output_type": "stream",
     "text": [
      "Starsim 2.0.0 (2024-10-01) — © 2023-2024 by IDM\n"
     ]
    }
   ],
   "source": [
    "import starsim as ss\n",
    "\n",
    "import polio"
   ]
  },
  {
   "cell_type": "code",
   "execution_count": 2,
   "metadata": {},
   "outputs": [],
   "source": [
    "people = ss.People(n_agents=1)"
   ]
  },
  {
   "cell_type": "code",
   "execution_count": 3,
   "metadata": {},
   "outputs": [
    {
     "name": "stdout",
     "output_type": "stream",
     "text": [
      "Initializing sim with 1 agents\n"
     ]
    },
    {
     "name": "stderr",
     "output_type": "stream",
     "text": [
      "/opt/homebrew/lib/python3.11/site-packages/starsim/disease.py:229: RuntimeWarning: \n",
      "Beta is defined as a number (5e-07); convert it to a rate to handle timestep conversions\n",
      "  ss.warn(scalar_warn)\n"
     ]
    },
    {
     "data": {
      "text/plain": [
       "Sim(n=1; 2000—2001; diseases=opv2)"
      ]
     },
     "execution_count": 3,
     "metadata": {},
     "output_type": "execute_result"
    }
   ],
   "source": [
    "sim = ss.Sim(\n",
    "    people=people, \n",
    "    diseases=[polio.OPV2(init_prev=1.0)],\n",
    "    networks=[], \n",
    "    demographics=[],\n",
    "    dur=1,\n",
    "    use_aging=True,\n",
    "    dt=1/365.,\n",
    "    rand_seed=123,\n",
    "    )\n",
    "sim.init()"
   ]
  },
  {
   "cell_type": "code",
   "execution_count": 4,
   "metadata": {},
   "outputs": [],
   "source": [
    "sim.people.age[0] = 15\n",
    "sim.people.female[0] = True"
   ]
  },
  {
   "cell_type": "code",
   "execution_count": 5,
   "metadata": {},
   "outputs": [
    {
     "data": {
      "text/plain": [
       "0.0027397260273972603"
      ]
     },
     "execution_count": 5,
     "metadata": {},
     "output_type": "execute_result"
    }
   ],
   "source": [
    "sim.dt_year"
   ]
  },
  {
   "cell_type": "code",
   "execution_count": 6,
   "metadata": {},
   "outputs": [
    {
     "name": "stdout",
     "output_type": "stream",
     "text": [
      "  Running 2000.0 ( 0/366) (3.51 s)  ———————————————————— 0%\n",
      "#0. 'uid':                              0\n",
      "#1. 'slot':                             0\n",
      "#2. 'alive':                            True\n",
      "#3. 'female':                           True\n",
      "#4. 'age':                              15.00274\n",
      "#5. 'ti_dead':                          nan\n",
      "#6. 'scale':                            1.0\n",
      "#7. 'opv2.susceptible':                 False\n",
      "#8. 'opv2.infected':                    True\n",
      "#9. 'opv2.rel_sus':                     601.3414\n",
      "#10. 'opv2.rel_trans':                   398.10718\n",
      "#11. 'opv2.ti_infected':                 0.0\n",
      "#12. 'opv2.prechallenge_immunity':       1.0\n",
      "#13. 'opv2.postchallenge_peak_immunity': 601.3414\n",
      "#14. 'opv2.shed_duration':               45.757347\n",
      "#15. 'opv2.log10_peak_cid50':            4.3000016\n"
     ]
    },
    {
     "name": "stderr",
     "output_type": "stream",
     "text": [
      "/Users/ewenger/GitHub/starsim-bokeh-demo/polio.py:180: RuntimeWarning: divide by zero encountered in log\n",
      "  log_t_inf = np.log(t_inf)\n",
      "/Users/ewenger/GitHub/starsim-bokeh-demo/polio.py:181: RuntimeWarning: invalid value encountered in divide\n",
      "  exponent = eta - (0.5*v**2) - ((log_t_inf - eta)**2) / (2 * (v + epsilon*log_t_inf)**2)\n"
     ]
    }
   ],
   "source": [
    "sim.run_one_step()\n",
    "print(sim.people.person(0))"
   ]
  },
  {
   "cell_type": "code",
   "execution_count": 8,
   "metadata": {},
   "outputs": [
    {
     "name": "stdout",
     "output_type": "stream",
     "text": [
      "2 601.3414 398.10718\n",
      "3 601.3414 2595.325\n",
      "4 601.3414 19520.572\n",
      "5 601.3414 23342.459\n",
      "6 601.3414 20444.693\n",
      "7 601.3414 16759.604\n",
      "8 601.3414 13644.389\n",
      "9 601.3414 11216.134\n",
      "10 601.3414 9349.106\n",
      "  Running 2000.0 (10/366) (14.80 s)  ———————————————————— 3%\n",
      "11 601.3414 7904.1787\n",
      "12 601.3414 6771.311\n",
      "13 601.3414 5870.0566\n",
      "14 601.3414 5142.687\n",
      "15 601.3414 4547.692\n",
      "16 601.3414 4054.9285\n",
      "17 601.3414 3642.2156\n",
      "18 601.3414 3293.0078\n",
      "19 601.3414 2994.794\n",
      "20 601.3414 2737.9832\n",
      "  Running 2000.1 (20/366) (14.80 s)  •——————————————————— 6%\n",
      "21 601.3414 2515.1372\n",
      "22 601.3414 2320.4165\n",
      "23 601.3414 2149.189\n",
      "24 601.3414 1997.7415\n",
      "25 601.3414 1863.0718\n",
      "26 601.3414 1742.7301\n",
      "27 601.3414 1634.701\n",
      "28 601.3414 1537.315\n",
      "29 601.3414 1449.1792\n",
      "30 601.3414 1369.1238\n",
      "  Running 2000.1 (30/366) (14.81 s)  •——————————————————— 8%\n",
      "31 601.3414 1296.161\n",
      "32 584.4292 1229.4501\n",
      "33 568.5073 1168.2739\n",
      "34 553.48956 1112.016\n",
      "35 539.2993 1060.1451\n",
      "36 525.8688 1012.2015\n",
      "37 513.137 967.78235\n",
      "38 501.05002 926.5405\n",
      "39 489.5588 888.1678\n",
      "40 478.61948 852.3936\n",
      "  Running 2000.1 (40/366) (14.81 s)  ••—————————————————— 11%\n",
      "41 468.1924 818.98035\n",
      "42 458.2417 787.71606\n",
      "43 448.73474 758.4126\n",
      "44 439.64188 730.904\n",
      "45 430.93594 705.04\n",
      "46 422.59238 680.68634\n",
      "47 414.58847 0.0\n",
      "48 406.90347 0.0\n",
      "49 399.51828 0.0\n",
      "50 392.41534 0.0\n",
      "  Running 2000.1 (50/366) (14.82 s)  ••—————————————————— 14%\n",
      "51 385.57837 0.0\n",
      "52 378.9924 0.0\n",
      "53 372.6436 0.0\n",
      "54 366.51907 0.0\n",
      "55 360.60687 0.0\n",
      "56 354.8959 0.0\n",
      "57 349.37592 0.0\n",
      "58 344.0372 0.0\n",
      "59 338.87085 0.0\n",
      "60 333.8684 0.0\n",
      "  Running 2000.2 (60/366) (14.82 s)  •••————————————————— 17%\n",
      "61 329.02203 0.0\n"
     ]
    }
   ],
   "source": [
    "for _ in range(60):\n",
    "    sim.run_one_step()\n",
    "    person = sim.people.person(0)\n",
    "    print(sim.ti, person[\"opv2.rel_sus\"], person[\"opv2.rel_trans\"])"
   ]
  },
  {
   "cell_type": "code",
   "execution_count": 9,
   "metadata": {},
   "outputs": [
    {
     "name": "stdout",
     "output_type": "stream",
     "text": [
      "#0. 'uid':                              0\n",
      "#1. 'slot':                             0\n",
      "#2. 'alive':                            True\n",
      "#3. 'female':                           True\n",
      "#4. 'age':                              15.167134\n",
      "#5. 'ti_dead':                          nan\n",
      "#6. 'scale':                            1.0\n",
      "#7. 'opv2.susceptible':                 True\n",
      "#8. 'opv2.infected':                    False\n",
      "#9. 'opv2.rel_sus':                     329.02203\n",
      "#10. 'opv2.rel_trans':                   0.0\n",
      "#11. 'opv2.ti_infected':                 0.0\n",
      "#12. 'opv2.prechallenge_immunity':       1.0\n",
      "#13. 'opv2.postchallenge_peak_immunity': 601.3414\n",
      "#14. 'opv2.shed_duration':               45.757347\n",
      "#15. 'opv2.log10_peak_cid50':            4.300001\n"
     ]
    }
   ],
   "source": [
    "print(sim.people.person(0))"
   ]
  }
 ],
 "metadata": {
  "kernelspec": {
   "display_name": "Python 3",
   "language": "python",
   "name": "python3"
  },
  "language_info": {
   "codemirror_mode": {
    "name": "ipython",
    "version": 3
   },
   "file_extension": ".py",
   "mimetype": "text/x-python",
   "name": "python",
   "nbconvert_exporter": "python",
   "pygments_lexer": "ipython3",
   "version": "3.11.4"
  }
 },
 "nbformat": 4,
 "nbformat_minor": 2
}
