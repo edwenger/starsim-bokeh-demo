{
 "cells": [
  {
   "cell_type": "code",
   "execution_count": 1,
   "metadata": {},
   "outputs": [
    {
     "name": "stdout",
     "output_type": "stream",
     "text": [
      "Starsim 1.0.1 (2024-07-22) — © 2023-2024 by IDM\n"
     ]
    }
   ],
   "source": [
    "import starsim as ss\n",
    "\n",
    "import polio"
   ]
  },
  {
   "cell_type": "code",
   "execution_count": 2,
   "metadata": {},
   "outputs": [],
   "source": [
    "people = ss.People(n_agents=1)"
   ]
  },
  {
   "cell_type": "code",
   "execution_count": 3,
   "metadata": {},
   "outputs": [
    {
     "name": "stdout",
     "output_type": "stream",
     "text": [
      "Initializing sim with 1 agents\n"
     ]
    },
    {
     "data": {
      "text/plain": [
       "Sim(n=1; diseases=opv2)"
      ]
     },
     "execution_count": 3,
     "metadata": {},
     "output_type": "execute_result"
    }
   ],
   "source": [
    "sim = ss.Sim(\n",
    "    people=people, \n",
    "    diseases=[polio.OPV2(init_prev=1.0)],\n",
    "    networks=[], \n",
    "    demographics=[],\n",
    "    n_years=1,\n",
    "    use_aging=True,\n",
    "    dt=1/365.,\n",
    "    rand_seed=123,\n",
    "    )\n",
    "sim.initialize()"
   ]
  },
  {
   "cell_type": "code",
   "execution_count": 4,
   "metadata": {},
   "outputs": [],
   "source": [
    "sim.people.age[0] = 15\n",
    "sim.people.female[0] = True"
   ]
  },
  {
   "cell_type": "code",
   "execution_count": 5,
   "metadata": {},
   "outputs": [
    {
     "data": {
      "text/plain": [
       "0.0027397260273972603"
      ]
     },
     "execution_count": 5,
     "metadata": {},
     "output_type": "execute_result"
    }
   ],
   "source": [
    "sim.dt"
   ]
  },
  {
   "cell_type": "code",
   "execution_count": 6,
   "metadata": {},
   "outputs": [
    {
     "name": "stdout",
     "output_type": "stream",
     "text": [
      "#0. 'uid':                              0\n",
      "#1. 'slot':                             0\n",
      "#2. 'alive':                            True\n",
      "#3. 'female':                           True\n",
      "#4. 'age':                              15.002739726027396\n",
      "#5. 'ti_dead':                          nan\n",
      "#6. 'scale':                            1.0\n",
      "#7. 'opv2.susceptible':                 False\n",
      "#8. 'opv2.infected':                    True\n",
      "#9. 'opv2.rel_sus':                     211.64582116741548\n",
      "#10. 'opv2.rel_trans':                   398.1071705534973\n",
      "#11. 'opv2.ti_infected':                 0.0\n",
      "#12. 'opv2.prechallenge_immunity':       1.0\n",
      "#13. 'opv2.postchallenge_peak_immunity': 211.64582116741548\n",
      "#14. 'opv2.shed_duration':               36.492026640528884\n",
      "#15. 'opv2.log10_peak_cid50':            4.30000131562604\n"
     ]
    },
    {
     "name": "stderr",
     "output_type": "stream",
     "text": [
      "/Users/ewenger/GitHub/starsim-bokeh-demo/polio.py:236: RuntimeWarning: divide by zero encountered in log\n",
      "  log_t_inf = np.log(t_inf)\n",
      "/Users/ewenger/GitHub/starsim-bokeh-demo/polio.py:237: RuntimeWarning: invalid value encountered in divide\n",
      "  exponent = eta - (0.5*v**2) - ((log_t_inf - eta)**2) / (2 * (v + epsilon*log_t_inf)**2)\n"
     ]
    }
   ],
   "source": [
    "sim.step()\n",
    "print(sim.people.person(0))"
   ]
  },
  {
   "cell_type": "code",
   "execution_count": 7,
   "metadata": {},
   "outputs": [
    {
     "name": "stdout",
     "output_type": "stream",
     "text": [
      "2 211.64582116741548 398.1071705534973\n",
      "3 211.64582116741548 2595.323543163964\n",
      "4 211.64582116741548 19520.552609115945\n",
      "5 211.64582116741548 23342.442410147116\n",
      "6 211.64582116741548 20444.67807362293\n",
      "7 211.64582116741548 16759.59367222193\n",
      "8 211.64582116741548 13644.379820209\n",
      "9 211.64582116741548 11216.125390744484\n",
      "10 211.64582116741548 9349.099102476948\n",
      "11 211.64582116741548 7904.172844880517\n",
      "12 211.64582116741548 6771.3060196137585\n",
      "13 211.64582116741548 5870.051998549512\n",
      "14 211.64582116741548 5142.682635255399\n",
      "15 211.64582116741548 4547.689047615327\n",
      "16 211.64582116741548 4054.925562230559\n",
      "17 211.64582116741548 3642.2129825223437\n",
      "18 211.64582116741548 3293.0059704735177\n",
      "19 211.64582116741548 2994.7915300141585\n",
      "20 211.64582116741548 2737.981029672423\n",
      "21 211.64582116741548 2515.135128149071\n",
      "22 211.64582116741548 2320.4147716806215\n",
      "23 211.64582116741548 2149.187297451334\n",
      "24 211.64582116741548 1997.740216192617\n",
      "25 211.64582116741548 1863.070675053912\n",
      "26 211.64582116741548 1742.728769117441\n",
      "27 211.64582116741548 1634.699630101847\n",
      "28 211.64582116741548 1537.313763257474\n",
      "29 211.64582116741548 1449.178190336537\n",
      "30 211.64582116741548 1369.12307844522\n",
      "31 211.64582116741548 1296.160009864783\n",
      "32 205.69347533780376 1229.4490850574814\n",
      "33 200.08968865682652 1168.2727880294033\n",
      "34 194.804085985128 1112.0150722976448\n",
      "35 189.80975637984315 1060.1445092995777\n",
      "36 185.0827701524579 1012.200621817826\n",
      "37 180.60177482047192 967.7827323032203\n",
      "38 176.34765527740743 0.0\n",
      "39 172.30324655051143 0.0\n",
      "40 168.45308986658677 0.0\n",
      "41 164.7832245752381 0.0\n",
      "42 161.28100991135287 0.0\n",
      "43 157.9349717081473 0.0\n",
      "44 154.73467006825314 0.0\n",
      "45 151.6705847155345 0.0\n",
      "46 148.73401532434775 0.0\n",
      "47 145.91699458613334 0.0\n",
      "48 143.21221214886376 0.0\n",
      "49 140.6129478709982 0.0\n",
      "50 138.11301308222718 0.0\n",
      "51 135.70669874940077 0.0\n",
      "52 133.3887296162534 0.0\n",
      "53 131.154223526678 0.0\n",
      "54 128.99865525879946 0.0\n",
      "55 126.91782429526197 0.0\n",
      "56 124.90782603746587 0.0\n",
      "57 122.96502604075162 0.0\n",
      "58 121.08603690600137 0.0\n",
      "59 119.26769751264808 0.0\n",
      "60 117.50705432015042 0.0\n",
      "61 115.80134450082981 0.0\n"
     ]
    }
   ],
   "source": [
    "for _ in range(60):\n",
    "    sim.step()\n",
    "    person = sim.people.person(0)\n",
    "    print(sim.ti, person[\"opv2.rel_sus\"], person[\"opv2.rel_trans\"])"
   ]
  },
  {
   "cell_type": "code",
   "execution_count": 8,
   "metadata": {},
   "outputs": [
    {
     "name": "stdout",
     "output_type": "stream",
     "text": [
      "#0. 'uid':                              0\n",
      "#1. 'slot':                             0\n",
      "#2. 'alive':                            True\n",
      "#3. 'female':                           True\n",
      "#4. 'age':                              15.167123287671185\n",
      "#5. 'ti_dead':                          nan\n",
      "#6. 'scale':                            1.0\n",
      "#7. 'opv2.susceptible':                 True\n",
      "#8. 'opv2.infected':                    False\n",
      "#9. 'opv2.rel_sus':                     115.80134450082981\n",
      "#10. 'opv2.rel_trans':                   0.0\n",
      "#11. 'opv2.ti_infected':                 0.0\n",
      "#12. 'opv2.prechallenge_immunity':       1.0\n",
      "#13. 'opv2.postchallenge_peak_immunity': 211.64582116741548\n",
      "#14. 'opv2.shed_duration':               36.492026640528884\n",
      "#15. 'opv2.log10_peak_cid50':            4.30000119205951\n"
     ]
    }
   ],
   "source": [
    "print(sim.people.person(0))"
   ]
  }
 ],
 "metadata": {
  "kernelspec": {
   "display_name": "Python 3",
   "language": "python",
   "name": "python3"
  },
  "language_info": {
   "codemirror_mode": {
    "name": "ipython",
    "version": 3
   },
   "file_extension": ".py",
   "mimetype": "text/x-python",
   "name": "python",
   "nbconvert_exporter": "python",
   "pygments_lexer": "ipython3",
   "version": "3.11.4"
  }
 },
 "nbformat": 4,
 "nbformat_minor": 2
}
