{
 "cells": [
  {
   "cell_type": "code",
   "execution_count": 1,
   "metadata": {},
   "outputs": [
    {
     "name": "stdout",
     "output_type": "stream",
     "text": [
      "Starsim 1.0.1 (2024-07-22) — © 2023-2024 by IDM\n"
     ]
    }
   ],
   "source": [
    "import starsim as ss\n",
    "\n",
    "from polio import Polio"
   ]
  },
  {
   "cell_type": "code",
   "execution_count": 2,
   "metadata": {},
   "outputs": [],
   "source": [
    "people = ss.People(n_agents=1)"
   ]
  },
  {
   "cell_type": "code",
   "execution_count": 3,
   "metadata": {},
   "outputs": [
    {
     "name": "stdout",
     "output_type": "stream",
     "text": [
      "Initializing sim with 1 agents\n"
     ]
    },
    {
     "data": {
      "text/plain": [
       "Sim(n=1; diseases=polio)"
      ]
     },
     "execution_count": 3,
     "metadata": {},
     "output_type": "execute_result"
    }
   ],
   "source": [
    "sim = ss.Sim(\n",
    "    people=people, \n",
    "    diseases=[Polio(init_prev=1.0)],\n",
    "    networks=[], \n",
    "    demographics=[],\n",
    "    n_years=1,\n",
    "    use_aging=True,\n",
    "    dt=1/365.,\n",
    "    rand_seed=123,\n",
    "    )\n",
    "sim.initialize()"
   ]
  },
  {
   "cell_type": "code",
   "execution_count": 4,
   "metadata": {},
   "outputs": [],
   "source": [
    "sim.people.age[0] = 15\n",
    "sim.people.female[0] = True"
   ]
  },
  {
   "cell_type": "code",
   "execution_count": 5,
   "metadata": {},
   "outputs": [
    {
     "data": {
      "text/plain": [
       "0.0027397260273972603"
      ]
     },
     "execution_count": 5,
     "metadata": {},
     "output_type": "execute_result"
    }
   ],
   "source": [
    "sim.dt"
   ]
  },
  {
   "cell_type": "code",
   "execution_count": 6,
   "metadata": {},
   "outputs": [
    {
     "name": "stdout",
     "output_type": "stream",
     "text": [
      "#0. 'uid':                               0\n",
      "#1. 'slot':                              0\n",
      "#2. 'alive':                             True\n",
      "#3. 'female':                            True\n",
      "#4. 'age':                               15.002739726027396\n",
      "#5. 'ti_dead':                           nan\n",
      "#6. 'scale':                             1.0\n",
      "#7. 'polio.susceptible':                 False\n",
      "#8. 'polio.infected':                    True\n",
      "#9. 'polio.rel_sus':                     50.34017329932626\n",
      "#10. 'polio.rel_trans':                   398.1071705534973\n",
      "#11. 'polio.ti_infected':                 0.0\n",
      "#12. 'polio.current_immunity':            50.34017329932626\n",
      "#13. 'polio.prechallenge_immunity':       1.0\n",
      "#14. 'polio.postchallenge_peak_immunity': 50.34017329932626\n",
      "#15. 'polio.shed_duration':               46.80666008873372\n",
      "#16. 'polio.log10_peak_cid50':            4.30000131562604\n",
      "#17. 'polio.viral_shed':                  398.1071705534973\n",
      "#18. 'polio.is_WPV':                      True\n"
     ]
    },
    {
     "name": "stderr",
     "output_type": "stream",
     "text": [
      "/Users/ewenger/GitHub/starsim-bokeh-demo/polio.py:251: RuntimeWarning: divide by zero encountered in log\n",
      "  log_t_inf = np.log(t_inf)\n",
      "/Users/ewenger/GitHub/starsim-bokeh-demo/polio.py:252: RuntimeWarning: invalid value encountered in divide\n",
      "  exponent = eta - (0.5*v**2) - ((log_t_inf - eta)**2) / (2 * (v + epsilon*log_t_inf)**2)\n"
     ]
    }
   ],
   "source": [
    "sim.step()\n",
    "print(sim.people.person(0))"
   ]
  },
  {
   "cell_type": "code",
   "execution_count": 7,
   "metadata": {},
   "outputs": [
    {
     "name": "stdout",
     "output_type": "stream",
     "text": [
      "2 50.34017329932626 398.1071705534973\n",
      "3 50.34017329932626 2595.323543163964\n",
      "4 50.34017329932626 19520.552609115945\n",
      "5 50.34017329932626 23342.442410147116\n",
      "6 50.34017329932626 20444.67807362293\n",
      "7 50.34017329932626 16759.59367222193\n",
      "8 50.34017329932626 13644.379820209\n",
      "9 50.34017329932626 11216.125390744484\n",
      "10 50.34017329932626 9349.099102476948\n",
      "11 50.34017329932626 7904.172844880517\n",
      "12 50.34017329932626 6771.3060196137585\n",
      "13 50.34017329932626 5870.051998549512\n",
      "14 50.34017329932626 5142.682635255399\n",
      "15 50.34017329932626 4547.689047615327\n",
      "16 50.34017329932626 4054.925562230559\n",
      "17 50.34017329932626 3642.2129825223437\n",
      "18 50.34017329932626 3293.0059704735177\n",
      "19 50.34017329932626 2994.7915300141585\n",
      "20 50.34017329932626 2737.981029672423\n",
      "21 50.34017329932626 2515.135128149071\n",
      "22 50.34017329932626 2320.4147716806215\n",
      "23 50.34017329932626 2149.187297451334\n",
      "24 50.34017329932626 1997.740216192617\n",
      "25 50.34017329932626 1863.070675053912\n",
      "26 50.34017329932626 1742.728769117441\n",
      "27 50.34017329932626 1634.699630101847\n",
      "28 50.34017329932626 1537.313763257474\n",
      "29 50.34017329932626 1449.178190336537\n",
      "30 50.34017329932626 1369.12307844522\n",
      "31 50.34017329932626 1296.160009864783\n",
      "32 48.92440180453661 1229.4490850574814\n",
      "33 47.591535456895805 1168.2727880294033\n",
      "34 46.33434949868966 1112.0150722976448\n",
      "35 45.146443134854 1060.1445092995777\n",
      "36 44.022124664696854 1012.200621817826\n",
      "37 42.9563153785914 967.7827323032203\n",
      "38 41.944468729067815 926.5408103766181\n",
      "39 40.982502009941314 888.16791972059\n",
      "40 40.06673833632257 852.3939522946757\n",
      "41 39.19385715335067 818.9804046773605\n",
      "42 38.360851842218324 787.7160026706595\n",
      "43 37.56499326071439 758.4130199741454\n",
      "44 36.803798268657566 730.9041675901284\n",
      "45 36.07500245870972 705.0399547666669\n",
      "46 35.37653644958921 680.6864412898785\n",
      "47 34.706505208871555 657.7233159794148\n",
      "48 34.063169961909985 0.0\n",
      "49 33.444932316220786 0.0\n",
      "50 32.85032029029186 0.0\n",
      "51 32.27797598479615 0.0\n",
      "52 31.72664467467864 0.0\n",
      "53 31.195165134155857 0.0\n",
      "54 30.682461034613535 0.0\n",
      "55 30.187533278736783 0.0\n",
      "56 29.709453153787084 0.0\n",
      "57 29.247356203414682 0.0\n",
      "58 28.800436731302554 0.0\n",
      "59 28.36794286171658 0.0\n",
      "60 27.949172092042357 0.0\n",
      "61 27.54346728091339 0.0\n"
     ]
    }
   ],
   "source": [
    "for _ in range(60):\n",
    "    sim.step()\n",
    "    person = sim.people.person(0)\n",
    "    print(sim.ti, person[\"polio.current_immunity\"], person[\"polio.viral_shed\"])"
   ]
  },
  {
   "cell_type": "code",
   "execution_count": 8,
   "metadata": {},
   "outputs": [
    {
     "name": "stdout",
     "output_type": "stream",
     "text": [
      "#0. 'uid':                               0\n",
      "#1. 'slot':                              0\n",
      "#2. 'alive':                             True\n",
      "#3. 'female':                            True\n",
      "#4. 'age':                               15.167123287671185\n",
      "#5. 'ti_dead':                           nan\n",
      "#6. 'scale':                             1.0\n",
      "#7. 'polio.susceptible':                 True\n",
      "#8. 'polio.infected':                    False\n",
      "#9. 'polio.rel_sus':                     27.54346728091339\n",
      "#10. 'polio.rel_trans':                   0.0\n",
      "#11. 'polio.ti_infected':                 0.0\n",
      "#12. 'polio.current_immunity':            27.54346728091339\n",
      "#13. 'polio.prechallenge_immunity':       1.0\n",
      "#14. 'polio.postchallenge_peak_immunity': 50.34017329932626\n",
      "#15. 'polio.shed_duration':               46.80666008873372\n",
      "#16. 'polio.log10_peak_cid50':            4.3000011598436725\n",
      "#17. 'polio.viral_shed':                  0.0\n",
      "#18. 'polio.is_WPV':                      True\n"
     ]
    }
   ],
   "source": [
    "print(sim.people.person(0))"
   ]
  }
 ],
 "metadata": {
  "kernelspec": {
   "display_name": "Python 3",
   "language": "python",
   "name": "python3"
  },
  "language_info": {
   "codemirror_mode": {
    "name": "ipython",
    "version": 3
   },
   "file_extension": ".py",
   "mimetype": "text/x-python",
   "name": "python",
   "nbconvert_exporter": "python",
   "pygments_lexer": "ipython3",
   "version": "3.11.4"
  }
 },
 "nbformat": 4,
 "nbformat_minor": 2
}
