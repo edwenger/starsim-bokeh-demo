{
 "cells": [
  {
   "cell_type": "code",
   "execution_count": 1,
   "metadata": {},
   "outputs": [
    {
     "name": "stdout",
     "output_type": "stream",
     "text": [
      "Starsim 1.0.1 (2024-07-22) — © 2023-2024 by IDM\n"
     ]
    }
   ],
   "source": [
    "import starsim as ss\n",
    "\n",
    "from polio import Polio"
   ]
  },
  {
   "cell_type": "code",
   "execution_count": 2,
   "metadata": {},
   "outputs": [],
   "source": [
    "people = ss.People(n_agents=1)"
   ]
  },
  {
   "cell_type": "code",
   "execution_count": 3,
   "metadata": {},
   "outputs": [
    {
     "name": "stdout",
     "output_type": "stream",
     "text": [
      "Initializing sim with 1 agents\n"
     ]
    },
    {
     "data": {
      "text/plain": [
       "Sim(n=1; diseases=polio)"
      ]
     },
     "execution_count": 3,
     "metadata": {},
     "output_type": "execute_result"
    }
   ],
   "source": [
    "sim = ss.Sim(\n",
    "    people=people, \n",
    "    diseases=[Polio(init_prev=1.0)],\n",
    "    networks=[], \n",
    "    demographics=[],\n",
    "    n_years=1,\n",
    "    use_aging=True,\n",
    "    dt=1/365.,\n",
    "    rand_seed=123,\n",
    "    )\n",
    "sim.initialize()"
   ]
  },
  {
   "cell_type": "code",
   "execution_count": 4,
   "metadata": {},
   "outputs": [],
   "source": [
    "sim.people.age[0] = 15\n",
    "sim.people.female[0] = True"
   ]
  },
  {
   "cell_type": "code",
   "execution_count": 5,
   "metadata": {},
   "outputs": [
    {
     "data": {
      "text/plain": [
       "0.0027397260273972603"
      ]
     },
     "execution_count": 5,
     "metadata": {},
     "output_type": "execute_result"
    }
   ],
   "source": [
    "sim.dt"
   ]
  },
  {
   "cell_type": "code",
   "execution_count": 6,
   "metadata": {},
   "outputs": [
    {
     "name": "stdout",
     "output_type": "stream",
     "text": [
      "#0. 'uid':                               0\n",
      "#1. 'slot':                              0\n",
      "#2. 'alive':                             True\n",
      "#3. 'female':                            True\n",
      "#4. 'age':                               15.002739726027396\n",
      "#5. 'ti_dead':                           nan\n",
      "#6. 'scale':                             1.0\n",
      "#7. 'polio.susceptible':                 False\n",
      "#8. 'polio.infected':                    True\n",
      "#9. 'polio.rel_sus':                     24.04609372258813\n",
      "#10. 'polio.rel_trans':                   398.1071705534973\n",
      "#11. 'polio.ti_infected':                 0.0\n",
      "#12. 'polio.current_immunity':            24.04609372258813\n",
      "#13. 'polio.prechallenge_immunity':       1.0\n",
      "#14. 'polio.postchallenge_peak_immunity': 24.04609372258813\n",
      "#15. 'polio.shed_duration':               53.34721164074219\n",
      "#16. 'polio.log10_peak_cid50':            4.30000131562604\n",
      "#17. 'polio.viral_shed':                  398.1071705534973\n",
      "#18. 'polio.is_WPV':                      True\n"
     ]
    },
    {
     "name": "stderr",
     "output_type": "stream",
     "text": [
      "/Users/ewenger/GitHub/starsim-bokeh-demo/polio.py:249: RuntimeWarning: divide by zero encountered in log\n",
      "  log_t_inf = np.log(t_inf)\n",
      "/Users/ewenger/GitHub/starsim-bokeh-demo/polio.py:250: RuntimeWarning: invalid value encountered in divide\n",
      "  exponent = eta - (0.5*v**2) - ((log_t_inf - eta)**2) / (2 * (v + epsilon*log_t_inf)**2)\n"
     ]
    }
   ],
   "source": [
    "sim.step()\n",
    "print(sim.people.person(0))"
   ]
  },
  {
   "cell_type": "code",
   "execution_count": 7,
   "metadata": {},
   "outputs": [
    {
     "name": "stdout",
     "output_type": "stream",
     "text": [
      "2 24.04609372258813 398.1071705534973\n",
      "3 24.04609372258813 2595.323543163964\n",
      "4 24.04609372258813 19520.552609115945\n",
      "5 24.04609372258813 23342.442410147116\n",
      "6 24.04609372258813 20444.67807362293\n",
      "7 24.04609372258813 16759.59367222193\n",
      "8 24.04609372258813 13644.379820209\n",
      "9 24.04609372258813 11216.125390744484\n",
      "10 24.04609372258813 9349.099102476948\n",
      "11 24.04609372258813 7904.172844880517\n",
      "12 24.04609372258813 6771.3060196137585\n",
      "13 24.04609372258813 5870.051998549512\n",
      "14 24.04609372258813 5142.682635255399\n",
      "15 24.04609372258813 4547.689047615327\n",
      "16 24.04609372258813 4054.925562230559\n",
      "17 24.04609372258813 3642.2129825223437\n",
      "18 24.04609372258813 3293.0059704735177\n",
      "19 24.04609372258813 2994.7915300141585\n",
      "20 24.04609372258813 2737.981029672423\n",
      "21 24.04609372258813 2515.135128149071\n",
      "22 24.04609372258813 2320.4147716806215\n",
      "23 24.04609372258813 2149.187297451334\n",
      "24 24.04609372258813 1997.740216192617\n",
      "25 24.04609372258813 1863.070675053912\n",
      "26 24.04609372258813 1742.728769117441\n",
      "27 24.04609372258813 1634.699630101847\n",
      "28 24.04609372258813 1537.313763257474\n",
      "29 24.04609372258813 1449.178190336537\n",
      "30 24.04609372258813 1369.12307844522\n",
      "31 24.04609372258813 1296.160009864783\n",
      "32 23.369819251877548 1229.4490850574814\n",
      "33 22.7331462526711 1168.2727880294033\n",
      "34 22.132623660148532 1112.0150722976448\n",
      "35 21.565193993416866 1060.1445092995777\n",
      "36 21.028138486144755 1012.200621817826\n",
      "37 20.519031180698914 967.7827323032203\n",
      "38 20.035700318433957 926.5408103766181\n",
      "39 19.57619570472147 888.16791972059\n",
      "40 19.138760994422757 852.3939522946757\n",
      "41 18.721810051293865 818.9804046773605\n",
      "42 18.323906697568816 787.7160026706595\n",
      "43 17.943747298295833 758.4130199741454\n",
      "44 17.580145726816777 730.9041675901284\n",
      "45 17.232020339038858 705.0399547666669\n",
      "46 16.8983826493653 680.6864412898785\n",
      "47 16.578327453775135 657.7233159794148\n",
      "48 16.271024188220238 636.04224821085\n",
      "49 15.975709345287951 615.5454688624596\n",
      "50 15.691679800553421 596.1445447786562\n",
      "51 15.418286923462876 577.759317055966\n",
      "52 15.15493136692846 560.3169784978361\n",
      "53 14.901058445850934 543.7512696907473\n",
      "54 14.656154028135811 528.0017765133058\n",
      "55 14.419740872921626 0.0\n",
      "56 14.191375360091717 0.0\n",
      "57 13.970644563010302 0.0\n",
      "58 13.757163623066822 0.0\n",
      "59 13.550573390238831 0.0\n",
      "60 13.350538298663144 0.0\n",
      "61 13.156744450276799 0.0\n"
     ]
    }
   ],
   "source": [
    "for _ in range(60):\n",
    "    sim.step()\n",
    "    person = sim.people.person(0)\n",
    "    print(sim.ti, person[\"polio.current_immunity\"], person[\"polio.viral_shed\"])"
   ]
  },
  {
   "cell_type": "code",
   "execution_count": 8,
   "metadata": {},
   "outputs": [
    {
     "name": "stdout",
     "output_type": "stream",
     "text": [
      "#0. 'uid':                               0\n",
      "#1. 'slot':                              0\n",
      "#2. 'alive':                             True\n",
      "#3. 'female':                            True\n",
      "#4. 'age':                               15.167123287671185\n",
      "#5. 'ti_dead':                           nan\n",
      "#6. 'scale':                             1.0\n",
      "#7. 'polio.susceptible':                 True\n",
      "#8. 'polio.infected':                    False\n",
      "#9. 'polio.rel_sus':                     13.156744450276799\n",
      "#10. 'polio.rel_trans':                   0.0\n",
      "#11. 'polio.ti_infected':                 0.0\n",
      "#12. 'polio.current_immunity':            13.156744450276799\n",
      "#13. 'polio.prechallenge_immunity':       1.0\n",
      "#14. 'polio.postchallenge_peak_immunity': 24.04609372258813\n",
      "#15. 'polio.shed_duration':               53.34721164074219\n",
      "#16. 'polio.log10_peak_cid50':            4.300001137812033\n",
      "#17. 'polio.viral_shed':                  0.0\n",
      "#18. 'polio.is_WPV':                      True\n"
     ]
    }
   ],
   "source": [
    "print(sim.people.person(0))"
   ]
  }
 ],
 "metadata": {
  "kernelspec": {
   "display_name": "Python 3",
   "language": "python",
   "name": "python3"
  },
  "language_info": {
   "codemirror_mode": {
    "name": "ipython",
    "version": 3
   },
   "file_extension": ".py",
   "mimetype": "text/x-python",
   "name": "python",
   "nbconvert_exporter": "python",
   "pygments_lexer": "ipython3",
   "version": "3.11.4"
  }
 },
 "nbformat": 4,
 "nbformat_minor": 2
}
